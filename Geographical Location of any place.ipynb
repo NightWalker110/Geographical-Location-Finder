{
 "cells": [
  {
   "cell_type": "code",
   "execution_count": 2,
   "metadata": {},
   "outputs": [],
   "source": [
    "from geopy.geocoders import Nominatim\n",
    "from pprint import pprint"
   ]
  },
  {
   "cell_type": "code",
   "execution_count": 11,
   "metadata": {},
   "outputs": [
    {
     "name": "stdout",
     "output_type": "stream",
     "text": [
      "{'boundingbox': ['30.5734421', '30.8934421', '76.6197143', '76.9397143'],\n",
      " 'class': 'place',\n",
      " 'display_name': 'Chandigarh, 160018, India',\n",
      " 'icon': 'https://nominatim.openstreetmap.org/ui/mapicons//poi_place_city.p.20.png',\n",
      " 'importance': 0.7179591729459519,\n",
      " 'lat': '30.7334421',\n",
      " 'licence': 'Data © OpenStreetMap contributors, ODbL 1.0. '\n",
      "            'https://osm.org/copyright',\n",
      " 'lon': '76.7797143',\n",
      " 'osm_id': 342117043,\n",
      " 'osm_type': 'node',\n",
      " 'place_id': 1993376,\n",
      " 'type': 'city'}\n"
     ]
    }
   ],
   "source": [
    "app = Nominatim(user_agent=\"Location\")\n",
    "location = app.geocode(\"Chandigarh\").raw\n",
    "pprint(location)"
   ]
  },
  {
   "cell_type": "code",
   "execution_count": null,
   "metadata": {},
   "outputs": [],
   "source": []
  }
 ],
 "metadata": {
  "kernelspec": {
   "display_name": "Python 3",
   "language": "python",
   "name": "python3"
  },
  "language_info": {
   "codemirror_mode": {
    "name": "ipython",
    "version": 3
   },
   "file_extension": ".py",
   "mimetype": "text/x-python",
   "name": "python",
   "nbconvert_exporter": "python",
   "pygments_lexer": "ipython3",
   "version": "3.8.5"
  }
 },
 "nbformat": 4,
 "nbformat_minor": 4
}
